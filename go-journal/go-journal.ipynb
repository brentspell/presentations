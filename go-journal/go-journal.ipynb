{
 "cells": [
  {
   "cell_type": "markdown",
   "id": "6edffe60",
   "metadata": {
    "ExecuteTime": {
     "end_time": "2021-08-03T00:04:00.845532Z",
     "start_time": "2021-08-03T00:04:00.133934Z"
    },
    "coq_kernel_metadata": {
     "auto_roll_back": true,
     "cell_id": "7e4b9e754fac477389a7272a4a07e539",
     "execution_id": "a4bb913398e545b4baa3dfeaca469396"
    },
    "deletable": false,
    "editable": false,
    "run_control": {
     "frozen": true
    }
   },
   "source": [
    "# <center>GoJournal: a verified, concurrent, crash-safe journaling system, or</center>\n",
    "# <center>Panic! at the Disk-Go</center>\n"
   ]
  },
  {
   "cell_type": "markdown",
   "id": "cdf9d275",
   "metadata": {
    "coq_kernel_metadata": {
     "auto_roll_back": true
    },
    "deletable": false,
    "editable": false,
    "heading_collapsed": true,
    "run_control": {
     "frozen": true
    }
   },
   "source": [
    "## Go-Journal"
   ]
  },
  {
   "cell_type": "markdown",
   "id": "d2c80a08",
   "metadata": {
    "coq_kernel_metadata": {
     "auto_roll_back": true
    },
    "deletable": false,
    "editable": false,
    "heading_collapsed": true,
    "hidden": true,
    "run_control": {
     "frozen": true
    }
   },
   "source": [
    "### Journaling"
   ]
  },
  {
   "cell_type": "markdown",
   "id": "78bf4b84",
   "metadata": {
    "coq_kernel_metadata": {
     "auto_roll_back": true
    },
    "deletable": false,
    "editable": false,
    "hidden": true,
    "run_control": {
     "frozen": true
    }
   },
   "source": [
    "* #### Journaling enables recovery from crashes in reliable storage systems using a log\n",
    "* #### Crashes may occur at any time during system execution, including during recovery\n",
    "* #### Journaling is particularly difficult to test due to concurrency, and recovery code runs only rarely\n",
    "* #### The journal is used here to implement a NFS storage server\n",
    "\n",
    "<img src=\"api.png\" width=\"50%\" style=\"margin: 0\" />\n"
   ]
  },
  {
   "cell_type": "markdown",
   "id": "3b42a5ae",
   "metadata": {
    "coq_kernel_metadata": {
     "auto_roll_back": true
    },
    "deletable": false,
    "editable": false,
    "heading_collapsed": true,
    "hidden": true,
    "run_control": {
     "frozen": true
    }
   },
   "source": [
    "### Verification and Proof"
   ]
  },
  {
   "cell_type": "markdown",
   "id": "ddd51463",
   "metadata": {
    "coq_kernel_metadata": {
     "auto_roll_back": true
    },
    "deletable": false,
    "editable": false,
    "hidden": true,
    "run_control": {
     "frozen": true
    }
   },
   "source": [
    "* #### Conventional testing (unit testing, integration testing)\n",
    "* #### Property-based testing (QuickCheck, ...)\n",
    "* #### Finite model checking (TLA+, ...)\n",
    "* #### Mechanized proof (Coq, Isabelle, Agda, Lean, ...)\n"
   ]
  },
  {
   "cell_type": "markdown",
   "id": "236c6fe8",
   "metadata": {
    "coq_kernel_metadata": {
     "auto_roll_back": true
    },
    "deletable": false,
    "editable": false,
    "heading_collapsed": true,
    "hidden": true,
    "run_control": {
     "frozen": true
    }
   },
   "source": [
    "### Go-Journal Verification Stack"
   ]
  },
  {
   "cell_type": "markdown",
   "id": "c05e399b",
   "metadata": {
    "coq_kernel_metadata": {
     "auto_roll_back": true
    },
    "deletable": false,
    "editable": false,
    "hidden": true,
    "run_control": {
     "frozen": true
    }
   },
   "source": [
    "* #### Goose: translation of Go programs to Coq\n",
    "* #### Perennial: high-level properties/proofs for concurrency and crash safety\n",
    "* #### Iris: logic for proving concurrent imperative programs\n",
    "* #### Coq: core functional language and interactive theorem prover\n",
    "\n",
    "<hr/>\n",
    "\n",
    "Key here is that the system can be implemented in a conventional programming language and verified in a proof language"
   ]
  },
  {
   "cell_type": "markdown",
   "id": "ba6cbe12",
   "metadata": {
    "coq_kernel_metadata": {
     "auto_roll_back": true
    },
    "deletable": false,
    "editable": false,
    "heading_collapsed": true,
    "hidden": true,
    "run_control": {
     "frozen": true
    }
   },
   "source": [
    "### Proof Structure"
   ]
  },
  {
   "cell_type": "markdown",
   "id": "fa64beb4",
   "metadata": {
    "coq_kernel_metadata": {
     "auto_roll_back": true
    },
    "deletable": false,
    "editable": false,
    "hidden": true,
    "run_control": {
     "frozen": true
    }
   },
   "source": [
    "<img src=\"layers.png\" width=\"25%\" style=\"margin: 0\" />\n",
    "\n",
    "* #### Modularity over Go-Journal layers/subsystems\n",
    "* #### Hoare logic for procedures: ```{P}C{Q}```\n",
    "* #### Iris enables proof modularity/composition across functions\n"
   ]
  },
  {
   "cell_type": "markdown",
   "id": "e7a69a6f",
   "metadata": {
    "coq_kernel_metadata": {
     "auto_roll_back": true
    },
    "deletable": false,
    "editable": false,
    "run_control": {
     "frozen": true
    }
   },
   "source": [
    "## Coq"
   ]
  },
  {
   "cell_type": "markdown",
   "id": "e29c18df",
   "metadata": {
    "coq_kernel_metadata": {
     "auto_roll_back": true
    },
    "deletable": false,
    "editable": false,
    "heading_collapsed": true,
    "run_control": {
     "frozen": true
    }
   },
   "source": [
    "### Programming Language\n"
   ]
  },
  {
   "cell_type": "markdown",
   "id": "b2f326a1",
   "metadata": {
    "coq_kernel_metadata": {
     "auto_roll_back": true
    },
    "deletable": false,
    "editable": false,
    "hidden": true,
    "run_control": {
     "frozen": true
    }
   },
   "source": [
    "* #### Dependently-typed functional language, similar to OCaml/Haskell, first released in 1989\n",
    "* #### Type system is based on the Calculus of Constructions, at the top of the lambda cube\n",
    "````coq\n",
    "Vector: Type := {v: list | len(v) = 2}\n",
    "````\n",
    "* #### Employs structural recursion for proof of termination\n",
    "* #### Not just a Trusted Code Base (TCB) as Coq's implementation can be verified in Coq\n",
    "* #### Programs can be transpiled (\"extracted\") to OCaml/Haskell/Scheme/C for execution\n"
   ]
  },
  {
   "cell_type": "markdown",
   "id": "01975b41",
   "metadata": {
    "coq_kernel_metadata": {
     "auto_roll_back": true
    },
    "deletable": false,
    "editable": false,
    "heading_collapsed": true,
    "hidden": true,
    "run_control": {
     "frozen": true
    }
   },
   "source": [
    "#### Example"
   ]
  },
  {
   "cell_type": "code",
   "execution_count": 1,
   "id": "2fe6467a",
   "metadata": {
    "ExecuteTime": {
     "end_time": "2021-08-03T00:07:20.300992Z",
     "start_time": "2021-08-03T00:07:17.912084Z"
    },
    "coq_kernel_metadata": {
     "auto_roll_back": true,
     "cell_id": "890ca57dec734f5b8cf1233f9349a128",
     "evaluated": true,
     "execution_id": "69a52c9d1e114f598b509a208113796c",
     "rolled_back": false
    },
    "hidden": true
   },
   "outputs": [
    {
     "data": {
      "text/html": [
       "\n",
       "<div class=\"coq_kernel_output_area\">\n",
       "    <pre></pre>\n",
       "</div>\n",
       "\n",
       "<div class=\"coq_kernel_rich_cell_output coq_kernel_status_message_area\" style=\"padding: 5px 0px;\">\n",
       "    <i class=\"fa-check fa text-success\"></i>\n",
       "    <span>Cell evaluated.</span>\n",
       "</div>\n",
       "\n",
       "<div class=\"coq_kernel_rich_cell_output coq_kernel_status_message_area coq_kernel_rolled_back_status_message\" style=\"padding: 5px 0px; display: none;\">\n",
       "    <i class=\"fa-exclamation-circle fa text-info\"></i>\n",
       "    <span>Cell rolled back.</span>\n",
       "</div>\n",
       "\n",
       "<div class=\"coq_kernel_rich_cell_output coq_kernel_roll_back_controls_area\" style=\"display: none; position: relative;\">\n",
       "    <button class=\"btn btn-default btn-xs coq_kernel_roll_back_button\" onclick=\"CoqKernel.roll_back(this)\">\n",
       "        <i class=\"fa-step-backward fa\"></i>\n",
       "        <span class=\"toolbar-btn-label\">Rollback cell</span>\n",
       "    </button>\n",
       "\n",
       "    <div style=\"display: inline-block; vertical-align: middle; padding-left: 0; padding-right: 0;\">\n",
       "      <input class=\"coq_kernel_auto_roll_back_checkbox\" type=\"checkbox\" value=\"\" onchange=\"CoqKernel.toggle_auto_roll_back(this)\" checked>\n",
       "      <label\">Auto rollback</label>\n",
       "    </div>\n",
       "</div>\n"
      ],
      "text/plain": []
     },
     "execution_count": 129,
     "metadata": {
      "coq_kernel_evaluated": true,
      "coq_kernel_execution_id": "69a52c9d1e114f598b509a208113796c",
      "coq_kernel_rolled_back": false
     },
     "output_type": "execute_result"
    }
   ],
   "source": [
    "Inductive list (X:Type) : Type :=\n",
    "  | nil\n",
    "  | cons (x : X) (l : list X).\n",
    "\n",
    "Arguments nil {X}.\n",
    "Arguments cons {X}.\n",
    "\n",
    "Notation \"x :: l\" := (cons x l) (at level 60, right associativity).\n",
    "Notation \"[ ]\" := nil.\n",
    "Notation \"[ x ; .. ; y ]\" := (x :: .. (y :: nil) ..).\n"
   ]
  },
  {
   "cell_type": "code",
   "execution_count": 129,
   "id": "895e71ae",
   "metadata": {
    "ExecuteTime": {
     "end_time": "2021-08-02T22:39:48.955061Z",
     "start_time": "2021-08-02T22:39:45.838153Z"
    },
    "coq_kernel_metadata": {
     "auto_roll_back": true,
     "cell_id": "8760f58837f24ad485dabce436175ca4",
     "evaluated": true,
     "execution_id": "775808f4ad2949758f5c4412c4183afb",
     "rolled_back": false
    },
    "hidden": true
   },
   "outputs": [
    {
     "data": {
      "text/html": [
       "\n",
       "<div class=\"coq_kernel_output_area\">\n",
       "    <pre>     = [4; 3; 2; 1]\n",
       "     : list nat</pre>\n",
       "</div>\n",
       "\n",
       "<div class=\"coq_kernel_rich_cell_output coq_kernel_status_message_area\" style=\"padding: 5px 0px;\">\n",
       "    <i class=\"fa-check fa text-success\"></i>\n",
       "    <span>Cell evaluated.</span>\n",
       "</div>\n",
       "\n",
       "<div class=\"coq_kernel_rich_cell_output coq_kernel_status_message_area coq_kernel_rolled_back_status_message\" style=\"padding: 5px 0px; display: none;\">\n",
       "    <i class=\"fa-exclamation-circle fa text-info\"></i>\n",
       "    <span>Cell rolled back.</span>\n",
       "</div>\n",
       "\n",
       "<div class=\"coq_kernel_rich_cell_output coq_kernel_roll_back_controls_area\" style=\"display: none; position: relative;\">\n",
       "    <button class=\"btn btn-default btn-xs coq_kernel_roll_back_button\" onclick=\"CoqKernel.roll_back(this)\">\n",
       "        <i class=\"fa-step-backward fa\"></i>\n",
       "        <span class=\"toolbar-btn-label\">Rollback cell</span>\n",
       "    </button>\n",
       "\n",
       "    <div style=\"display: inline-block; vertical-align: middle; padding-left: 0; padding-right: 0;\">\n",
       "      <input class=\"coq_kernel_auto_roll_back_checkbox\" type=\"checkbox\" value=\"\" onchange=\"CoqKernel.toggle_auto_roll_back(this)\" checked>\n",
       "      <label\">Auto rollback</label>\n",
       "    </div>\n",
       "</div>\n"
      ],
      "text/plain": [
       "     = [4; 3; 2; 1]\n",
       "     : list nat"
      ]
     },
     "execution_count": 136,
     "metadata": {
      "coq_kernel_evaluated": true,
      "coq_kernel_execution_id": "775808f4ad2949758f5c4412c4183afb",
      "coq_kernel_rolled_back": false
     },
     "output_type": "execute_result"
    }
   ],
   "source": [
    "Definition car {X: Type} (l: list X) : option X :=\n",
    "  match l with\n",
    "  | nil => None\n",
    "  | x :: _ => Some x\n",
    "  end.\n",
    "\n",
    "Definition cdr {X: Type} (l: list X) : list X :=\n",
    "  match l with\n",
    "  | nil => nil\n",
    "  | _ :: l' => l'\n",
    "  end.\n",
    "\n",
    "Fixpoint len {X: Type} (l: list X) : nat := \n",
    "  match l with\n",
    "  | nil => 0\n",
    "  | _ :: l' => (len l') + 1\n",
    "  end.\n",
    "\n",
    "Fixpoint concat {X: Type} (a b: list X) : list X :=\n",
    "  match a with\n",
    "  | nil => b\n",
    "  | x :: l => x :: (concat l b)\n",
    "  end.\n",
    "  Notation \"a ++ b\" := (concat a b) (right associativity, at level 60).\n",
    "\n",
    "Fixpoint reverse {X: Type} (l: list X) : list X :=\n",
    "  match l with\n",
    "  | nil => nil\n",
    "  | x :: l => (reverse l) ++ [x]\n",
    "  end.\n",
    "  \n",
    "Compute reverse ([1; 2] ++ [3; 4]).\n"
   ]
  },
  {
   "cell_type": "markdown",
   "id": "7d3418af",
   "metadata": {
    "coq_kernel_metadata": {
     "auto_roll_back": true
    },
    "deletable": false,
    "editable": false,
    "heading_collapsed": true,
    "run_control": {
     "frozen": true
    }
   },
   "source": [
    "### Interactive Proof Assistant\n"
   ]
  },
  {
   "cell_type": "markdown",
   "id": "04165548",
   "metadata": {
    "coq_kernel_metadata": {
     "auto_roll_back": true
    },
    "deletable": false,
    "editable": false,
    "hidden": true,
    "run_control": {
     "frozen": true
    }
   },
   "source": [
    "* #### A Trusted Theory Base (TTB), since Coq's semantics can't be proven in Coq due to Gödel\n",
    "* #### Ultimately just a dependent type checker, via Curry-Howard correspondence\n",
    "* #### Proofs are similar to handwritten two-column proofs - goals are transformed/reduced via tactics\n",
    "* #### Proof structure: goal(s), local context, other proofs, tactics\n",
    "* #### Downside: from the source alone, it is hard to see what a proof is doing\n"
   ]
  },
  {
   "cell_type": "markdown",
   "id": "56c9ab98",
   "metadata": {
    "coq_kernel_metadata": {
     "auto_roll_back": true
    },
    "deletable": false,
    "editable": false,
    "heading_collapsed": true,
    "hidden": true,
    "run_control": {
     "frozen": true
    }
   },
   "source": [
    "#### Example"
   ]
  },
  {
   "cell_type": "code",
   "execution_count": 26,
   "id": "aafc9425",
   "metadata": {
    "ExecuteTime": {
     "end_time": "2021-08-02T22:40:28.216274Z",
     "start_time": "2021-08-02T22:40:27.291359Z"
    },
    "coq_kernel_metadata": {
     "auto_roll_back": true,
     "cell_id": "fa3ac6037d8f4f7aa53ad8b698c1ee57",
     "evaluated": true,
     "execution_id": "f4ffe787d17543d3a06c2d050d272cb6",
     "rolled_back": true
    },
    "hidden": true
   },
   "outputs": [
    {
     "data": {
      "text/html": [
       "\n",
       "<div class=\"coq_kernel_output_area\">\n",
       "    <pre></pre>\n",
       "</div>\n",
       "\n",
       "<div class=\"coq_kernel_rich_cell_output coq_kernel_status_message_area\" style=\"padding: 5px 0px;\">\n",
       "    <i class=\"fa-check fa text-success\"></i>\n",
       "    <span>Cell evaluated.</span>\n",
       "</div>\n",
       "\n",
       "<div class=\"coq_kernel_rich_cell_output coq_kernel_status_message_area coq_kernel_rolled_back_status_message\" style=\"padding: 5px 0px; display: none;\">\n",
       "    <i class=\"fa-exclamation-circle fa text-info\"></i>\n",
       "    <span>Cell rolled back.</span>\n",
       "</div>\n",
       "\n",
       "<div class=\"coq_kernel_rich_cell_output coq_kernel_roll_back_controls_area\" style=\"display: none; position: relative;\">\n",
       "    <button class=\"btn btn-default btn-xs coq_kernel_roll_back_button\" onclick=\"CoqKernel.roll_back(this)\">\n",
       "        <i class=\"fa-step-backward fa\"></i>\n",
       "        <span class=\"toolbar-btn-label\">Rollback cell</span>\n",
       "    </button>\n",
       "\n",
       "    <div style=\"display: inline-block; vertical-align: middle; padding-left: 0; padding-right: 0;\">\n",
       "      <input class=\"coq_kernel_auto_roll_back_checkbox\" type=\"checkbox\" value=\"\" onchange=\"CoqKernel.toggle_auto_roll_back(this)\" checked>\n",
       "      <label\">Auto rollback</label>\n",
       "    </div>\n",
       "</div>\n"
      ],
      "text/plain": []
     },
     "execution_count": 123,
     "metadata": {
      "coq_kernel_evaluated": true,
      "coq_kernel_execution_id": "f4ffe787d17543d3a06c2d050d272cb6",
      "coq_kernel_rolled_back": false
     },
     "output_type": "execute_result"
    }
   ],
   "source": [
    "Theorem cons_is_concat: \n",
    "  forall (x: nat) (l: list nat), \n",
    "    x :: l = [x] ++ l.\n",
    "Proof.\n",
    "  intros x l.\n",
    "  simpl.\n",
    "  auto.\n",
    "Qed.\n"
   ]
  },
  {
   "cell_type": "code",
   "execution_count": null,
   "id": "50f9676c",
   "metadata": {
    "coq_kernel_metadata": {
     "auto_roll_back": true
    },
    "hidden": true
   },
   "outputs": [],
   "source": []
  },
  {
   "cell_type": "markdown",
   "id": "0f84d9ae",
   "metadata": {
    "coq_kernel_metadata": {
     "auto_roll_back": true
    },
    "deletable": false,
    "editable": false,
    "heading_collapsed": true,
    "run_control": {
     "frozen": true
    }
   },
   "source": [
    "## Iris"
   ]
  },
  {
   "cell_type": "markdown",
   "id": "9b2e47e3",
   "metadata": {
    "coq_kernel_metadata": {
     "auto_roll_back": true
    },
    "deletable": false,
    "editable": false,
    "hidden": true,
    "run_control": {
     "frozen": true
    }
   },
   "source": [
    "<blockquote style=\"width: 50%;\">\n",
    "<h4>\n",
    "Iris is also, unfortunately, a beast to learn. It can be hard to tell where to start, hard to figure out what Iris even is, and hard to appreciate why Iris is such a good framework.\n",
    "</h4>\n",
    "</blockquote>\n",
    "\n",
    "* #### A relatively new toolset (~2014)\n",
    "* #### Has been used to prove a subset of the rust type system\n",
    "* #### Language interfaces:\n",
    "    * HeapLang (built-in toy language)\n",
    "    * Go (goose)\n",
    "    * Rust (rustbelt)\n",
    "    * Scala, not that anyone cares\n"
   ]
  },
  {
   "cell_type": "markdown",
   "id": "2d2143f9",
   "metadata": {
    "coq_kernel_metadata": {
     "auto_roll_back": true
    },
    "heading_collapsed": true,
    "hidden": true
   },
   "source": [
    "### Concurrent Separation Logic"
   ]
  },
  {
   "cell_type": "markdown",
   "id": "8c497f80",
   "metadata": {
    "coq_kernel_metadata": {
     "auto_roll_back": true
    },
    "deletable": false,
    "editable": false,
    "hidden": true,
    "run_control": {
     "frozen": true
    }
   },
   "source": [
    "* #### Enables reasononing about arbitrary imperative programs in Coq, including memory/pointers\n",
    "* #### \"Separation\" involves partitioning memory into disjoint regions that can be reasoned independently\n",
    "* #### An extension of Hoare logic `{P}C{Q}`\n",
    "    * Function `C` executes with initial states satisfying a precondition `P`\n",
    "    * If nothing goes wrong and `C` terminates, then the final state will satisfy postcondition `Q`\n",
    "    * `C` may only access memory asserted by `P` or allocated by `C`\n",
    "    * All memory addresses referred to by `P` are considered owned by a thread executing `C`\n",
    "* #### Example\n",
    "````ocaml\n",
    "{x -> n} let v = !x in x <- v + 1 {x -> n + 1}\n",
    "````"
   ]
  },
  {
   "cell_type": "markdown",
   "id": "9eda48c7",
   "metadata": {
    "coq_kernel_metadata": {
     "auto_roll_back": true
    },
    "deletable": false,
    "editable": false,
    "run_control": {
     "frozen": true
    }
   },
   "source": [
    "## Notes"
   ]
  },
  {
   "cell_type": "markdown",
   "id": "4eadc8f8",
   "metadata": {
    "coq_kernel_metadata": {
     "auto_roll_back": true
    },
    "deletable": false,
    "editable": false,
    "heading_collapsed": true,
    "run_control": {
     "frozen": true
    }
   },
   "source": [
    "### Proof to Code Ratio\n"
   ]
  },
  {
   "cell_type": "markdown",
   "id": "8e222f1c",
   "metadata": {
    "coq_kernel_metadata": {
     "auto_roll_back": true
    },
    "deletable": false,
    "editable": false,
    "hidden": true,
    "run_control": {
     "frozen": true
    }
   },
   "source": [
    "<img src=\"loc.png\" width=\"50%\" style=\"margin: 0\" />"
   ]
  },
  {
   "cell_type": "markdown",
   "id": "78f07530",
   "metadata": {
    "coq_kernel_metadata": {
     "auto_roll_back": true
    },
    "deletable": false,
    "editable": false,
    "heading_collapsed": true,
    "run_control": {
     "frozen": true
    }
   },
   "source": [
    "### Coq Formatter"
   ]
  },
  {
   "cell_type": "markdown",
   "id": "e8f28f4c",
   "metadata": {
    "coq_kernel_metadata": {
     "auto_roll_back": true
    },
    "deletable": false,
    "editable": false,
    "hidden": true,
    "run_control": {
     "frozen": true
    }
   },
   "source": [
    "<img src=\"coqfmt.png\" width=\"100%\"/>\n"
   ]
  },
  {
   "cell_type": "markdown",
   "id": "e511aae8",
   "metadata": {
    "coq_kernel_metadata": {
     "auto_roll_back": true
    },
    "deletable": false,
    "editable": false,
    "heading_collapsed": true,
    "run_control": {
     "frozen": true
    }
   },
   "source": [
    "### QuickChick"
   ]
  },
  {
   "cell_type": "markdown",
   "id": "3498d0ee",
   "metadata": {
    "coq_kernel_metadata": {
     "auto_roll_back": true
    },
    "deletable": false,
    "editable": false,
    "hidden": true,
    "run_control": {
     "frozen": true
    }
   },
   "source": [
    "* #### Randomized property-based testing framework, similar to Haskell's QuickCheck\n",
    "* #### Enables proving that a test verifies a Coq property\n",
    "* #### Automatically generates data from Coq's dependent type system\n"
   ]
  },
  {
   "cell_type": "markdown",
   "id": "eb245f7a",
   "metadata": {
    "coq_kernel_metadata": {
     "auto_roll_back": true
    },
    "deletable": false,
    "editable": false,
    "heading_collapsed": true,
    "run_control": {
     "frozen": true
    }
   },
   "source": [
    "### Some Proven Systems"
   ]
  },
  {
   "cell_type": "markdown",
   "id": "4982158f",
   "metadata": {
    "coq_kernel_metadata": {
     "auto_roll_back": true
    },
    "deletable": false,
    "editable": false,
    "hidden": true,
    "run_control": {
     "frozen": true
    }
   },
   "source": [
    "* #### WebAssembly specification\n",
    "    * Soundness of the WASM type system\n",
    "    * A verified WASM bytecode interpreter\n",
    "    * Implemented using the Isabelle proof assistant\n",
    "    \n",
    "* #### CompCert optimizing compiler\n",
    "    * Verifies a subset (CLight) of the semantics of C99\n",
    "    * Initially designed to be a safe optimizing compiler for C for embedded systems\n",
    "    * Implemented and verified in Coq\n",
    "    * Employs a sequence of 12 intermediate languages during compilation\n"
   ]
  },
  {
   "cell_type": "markdown",
   "id": "aee7b155",
   "metadata": {
    "coq_kernel_metadata": {
     "auto_roll_back": true
    },
    "deletable": false,
    "editable": false,
    "run_control": {
     "frozen": true
    }
   },
   "source": [
    "### Other Proof Assistants/Languages"
   ]
  },
  {
   "cell_type": "markdown",
   "id": "4fadfcc3",
   "metadata": {
    "coq_kernel_metadata": {
     "auto_roll_back": true
    },
    "deletable": false,
    "editable": false,
    "run_control": {
     "frozen": true
    }
   },
   "source": [
    "* #### Isabelle\n",
    "    * ML-based proof assistant\n",
    "    * Archive of Formal Proofs (www.isa-afp.org) - a sort of package manager for proofs\n",
    "\n",
    "* #### Lean\n",
    "    * CoC-based Logic similar to Coq\n",
    "    * Geared towards mathematics community\n",
    "    * Transpiles to Javascript for the browser\n",
    "    * Xena Project: rewrite all theorems/proofs in undergrad math in Lean\n",
    "\n",
    "* #### F*\n",
    "    * CoC-based proof assistant similar to Coq\n",
    "    * Includes an SMT solver for some automated theorem proving\n",
    "    * Steel project for concurrency reasoning, similar to Iris\n",
    "    * Transpiles to OCaml/F#/C\n"
   ]
  },
  {
   "cell_type": "markdown",
   "id": "9f10d7b8",
   "metadata": {
    "coq_kernel_metadata": {
     "auto_roll_back": true
    },
    "deletable": false,
    "editable": false,
    "heading_collapsed": true,
    "run_control": {
     "frozen": true
    }
   },
   "source": [
    "### Weaker Results"
   ]
  },
  {
   "cell_type": "markdown",
   "id": "e72ebbbb",
   "metadata": {
    "coq_kernel_metadata": {
     "auto_roll_back": true
    },
    "deletable": false,
    "editable": false,
    "hidden": true,
    "run_control": {
     "frozen": true
    }
   },
   "source": [
    "* #### Facebook's Infer static analyzer uses Separation Logic (like Iris)\n",
    "* #### They bought it from the Monoidics company in 2013\n",
    "* #### Checks for null pointer problems, memory leaks, etc. in C/C++/Objective-C\n",
    "* #### Implemented in OCaml\n"
   ]
  },
  {
   "cell_type": "markdown",
   "id": "1b4aed39",
   "metadata": {
    "coq_kernel_metadata": {
     "auto_roll_back": true
    },
    "deletable": false,
    "editable": false,
    "heading_collapsed": true,
    "run_control": {
     "frozen": true
    }
   },
   "source": [
    "### Links"
   ]
  },
  {
   "cell_type": "markdown",
   "id": "edb674dd",
   "metadata": {
    "coq_kernel_metadata": {
     "auto_roll_back": true
    },
    "deletable": false,
    "editable": false,
    "hidden": true,
    "run_control": {
     "frozen": true
    }
   },
   "source": [
    "* https://www.chajed.io/papers/gojournal:osdi2021.pdf\n",
    "* https://softwarefoundations.cis.upenn.edu/\n",
    "* https://arxiv.org/abs/2105.12077\n",
    "* https://cacm.acm.org/magazines/2019/2/234356-separation-logic/fulltext\n",
    "* https://plv.csail.mit.edu/blog/iris-intro.html\n",
    "* https://pjreddie.com/coq-tactics/\n"
   ]
  },
  {
   "cell_type": "code",
   "execution_count": null,
   "id": "14bd707d",
   "metadata": {
    "coq_kernel_metadata": {
     "auto_roll_back": true
    },
    "hidden": true
   },
   "outputs": [],
   "source": []
  }
 ],
 "metadata": {
  "kernelspec": {
   "display_name": "Coq",
   "language": "coq",
   "name": "coq"
  },
  "language_info": {
   "file_extension": ".v",
   "mimetype": "text/x-coq",
   "name": "coq",
   "version": "8.13.2"
  },
  "toc": {
   "base_numbering": 1,
   "nav_menu": {},
   "number_sections": false,
   "sideBar": true,
   "skip_h1_title": false,
   "title_cell": "Table of Contents",
   "title_sidebar": "Contents",
   "toc_cell": false,
   "toc_position": {},
   "toc_section_display": true,
   "toc_window_display": false
  }
 },
 "nbformat": 4,
 "nbformat_minor": 5
}
