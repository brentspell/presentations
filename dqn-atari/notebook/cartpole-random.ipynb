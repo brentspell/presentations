{
 "cells": [
  {
   "cell_type": "code",
   "execution_count": 5,
   "metadata": {
    "ExecuteTime": {
     "end_time": "2017-08-08T21:53:28.588230Z",
     "start_time": "2017-08-08T21:53:26.699591Z"
    }
   },
   "outputs": [
    {
     "name": "stderr",
     "output_type": "stream",
     "text": [
      "[2017-08-08 17:53:26,719] Making new env: Breakout-v0\n"
     ]
    },
    {
     "name": "stdout",
     "output_type": "stream",
     "text": [
      "1.0\n",
      "0.0\n",
      "0.0\n",
      "3.0\n",
      "2.0\n",
      "0.0\n",
      "2.0\n",
      "2.0\n",
      "1.0\n",
      "3.0\n"
     ]
    }
   ],
   "source": [
    "import gym\n",
    "\n",
    "game = gym.make('Breakout-v0')\n",
    "\n",
    "for episode in range(10):\n",
    "    game.reset()\n",
    "    score = 0\n",
    "    done = False\n",
    "    \n",
    "    while not done:\n",
    "        action = random.randrange(game.action_space.n)\n",
    "\n",
    "        _, reward, done, *_ = game.step(action)\n",
    "        \n",
    "        score += reward\n",
    "\n",
    "    print(score)\n"
   ]
  },
  {
   "cell_type": "code",
   "execution_count": null,
   "metadata": {
    "collapsed": true
   },
   "outputs": [],
   "source": []
  }
 ],
 "metadata": {
  "kernelspec": {
   "display_name": "Python 3",
   "language": "python",
   "name": "python3"
  },
  "language_info": {
   "codemirror_mode": {
    "name": "ipython",
    "version": 3
   },
   "file_extension": ".py",
   "mimetype": "text/x-python",
   "name": "python",
   "nbconvert_exporter": "python",
   "pygments_lexer": "ipython3",
   "version": "3.6.2"
  }
 },
 "nbformat": 4,
 "nbformat_minor": 2
}
